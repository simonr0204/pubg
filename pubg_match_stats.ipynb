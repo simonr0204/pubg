{
 "cells": [
  {
   "cell_type": "code",
   "execution_count": 60,
   "metadata": {},
   "outputs": [],
   "source": [
    "import pandas as pd\n",
    "import requests\n",
    "from matplotlib import pyplot as plt\n",
    "import os\n",
    "import shutil\n",
    "import time"
   ]
  },
  {
   "cell_type": "code",
   "execution_count": 63,
   "metadata": {},
   "outputs": [],
   "source": [
    "player = 'simonr0204'"
   ]
  },
  {
   "cell_type": "code",
   "execution_count": 64,
   "metadata": {},
   "outputs": [],
   "source": [
    "#Set up results directories\n",
    "cwd = os.getcwd()    \n",
    "destination = os.path.join(cwd, player) \n",
    "if not os.path.exists(destination):\n",
    "    os.makedirs(destination)\n",
    "else:\n",
    "    shutil.rmtree(destination)           \n",
    "    os.makedirs(destination) "
   ]
  },
  {
   "cell_type": "code",
   "execution_count": 65,
   "metadata": {},
   "outputs": [],
   "source": [
    "def get_matches(playername, n):\n",
    "\n",
    "    with open('API_KEY.txt', 'r') as keyfile:\n",
    "            api_key = keyfile.read()               #Your API key goes here\n",
    "\n",
    "    def get_match_IDS(playername):    #Gets the match IDS for the last 14 days for player specified\n",
    "\n",
    "            url = \"https://api.pubg.com/shards/steam/players?filter[playerNames]=\"+playername          \n",
    "            header = {\n",
    "              \"Authorization\": \"Bearer \"+api_key,\n",
    "              \"Accept\": \"application/vnd.api+json\"\n",
    "            }\n",
    "\n",
    "            response = requests.get(url, headers=header).json()\n",
    "            matchIDS = [response['data'][0]['relationships']['matches']['data'][i]['id'] for i,_ in enumerate(response['data'][0]['relationships']['matches']['data'])]\n",
    "            return matchIDS\n",
    "\n",
    "    def get_match_data(match_ID):    #Gets the match data for the match ID provided\n",
    "            url = \"https://api.pubg.com/shards/steam/matches/\"+match_ID       \n",
    "            header = {\n",
    "              \"Authorization\": \"Bearer \"+api_key,\n",
    "              \"Accept\": \"application/vnd.api+json\"\n",
    "            }\n",
    "\n",
    "            response = requests.get(url, headers=header).json()\n",
    "            \n",
    "            match_metadata = response['data']['attributes']\n",
    "            \n",
    "            participants = [ob for ob in response['included'] if ob['type']=='participant']\n",
    "            for player in participants:\n",
    "                if player['attributes']['stats']['name']==playername:\n",
    "                    match_playerdata = (player['attributes']['stats'])\n",
    "            \n",
    "            return match_metadata, match_playerdata  #TO DO :replace 'playerdata' with actual player stats and concat with match metadata\n",
    "                    \n",
    "\n",
    "    matchIDS = get_match_IDS(playername)\n",
    "    if n=='all':\n",
    "        n=len(matchIDS)\n",
    "    else:\n",
    "        n = min(n, len(matchIDS)+1)\n",
    "    print(f'Fetching match data for {playername} (= {n} matches)')\n",
    "    matches_metadata=[]\n",
    "    matches_playerdata=[]\n",
    "    for match_ID in matchIDS[:n]:\n",
    "        match_metadata, match_playerdata = get_match_data(match_ID)\n",
    "        matches_metadata.append(match_metadata)\n",
    "        matches_playerdata.append(match_playerdata)\n",
    "    print('done')\n",
    "    return pd.concat([pd.DataFrame(matches_metadata)[['createdAt', 'gameMode', 'mapName']], pd.DataFrame(matches_playerdata)], axis=1)"
   ]
  },
  {
   "cell_type": "code",
   "execution_count": 66,
   "metadata": {},
   "outputs": [
    {
     "name": "stdout",
     "output_type": "stream",
     "text": [
      "Fetching match data for simonr0204 (= 143 matches)\n",
      "done\n"
     ]
    }
   ],
   "source": [
    "matches = get_matches(player ,'all')"
   ]
  },
  {
   "cell_type": "code",
   "execution_count": 68,
   "metadata": {},
   "outputs": [
    {
     "data": {
      "text/html": [
       "<div>\n",
       "<style scoped>\n",
       "    .dataframe tbody tr th:only-of-type {\n",
       "        vertical-align: middle;\n",
       "    }\n",
       "\n",
       "    .dataframe tbody tr th {\n",
       "        vertical-align: top;\n",
       "    }\n",
       "\n",
       "    .dataframe thead th {\n",
       "        text-align: right;\n",
       "    }\n",
       "</style>\n",
       "<table border=\"1\" class=\"dataframe\">\n",
       "  <thead>\n",
       "    <tr style=\"text-align: right;\">\n",
       "      <th></th>\n",
       "      <th>createdAt</th>\n",
       "      <th>gameMode</th>\n",
       "      <th>mapName</th>\n",
       "      <th>DBNOs</th>\n",
       "      <th>assists</th>\n",
       "      <th>boosts</th>\n",
       "      <th>damageDealt</th>\n",
       "      <th>deathType</th>\n",
       "      <th>headshotKills</th>\n",
       "      <th>heals</th>\n",
       "      <th>...</th>\n",
       "      <th>roadKills</th>\n",
       "      <th>swimDistance</th>\n",
       "      <th>teamKills</th>\n",
       "      <th>timeSurvived</th>\n",
       "      <th>vehicleDestroys</th>\n",
       "      <th>walkDistance</th>\n",
       "      <th>weaponsAcquired</th>\n",
       "      <th>winPlace</th>\n",
       "      <th>winPoints</th>\n",
       "      <th>winPointsDelta</th>\n",
       "    </tr>\n",
       "  </thead>\n",
       "  <tbody>\n",
       "    <tr>\n",
       "      <th>0</th>\n",
       "      <td>2019-01-18T19:02:17Z</td>\n",
       "      <td>solo-fpp</td>\n",
       "      <td>Desert_Main</td>\n",
       "      <td>0</td>\n",
       "      <td>0</td>\n",
       "      <td>2</td>\n",
       "      <td>34.997932</td>\n",
       "      <td>byplayer</td>\n",
       "      <td>0</td>\n",
       "      <td>0</td>\n",
       "      <td>...</td>\n",
       "      <td>0</td>\n",
       "      <td>0.0</td>\n",
       "      <td>0</td>\n",
       "      <td>1540.754</td>\n",
       "      <td>0</td>\n",
       "      <td>1628.352660</td>\n",
       "      <td>3</td>\n",
       "      <td>14</td>\n",
       "      <td>0</td>\n",
       "      <td>0</td>\n",
       "    </tr>\n",
       "    <tr>\n",
       "      <th>1</th>\n",
       "      <td>2019-01-17T23:59:25Z</td>\n",
       "      <td>duo-fpp</td>\n",
       "      <td>Erangel_Main</td>\n",
       "      <td>0</td>\n",
       "      <td>0</td>\n",
       "      <td>0</td>\n",
       "      <td>0.000000</td>\n",
       "      <td>byplayer</td>\n",
       "      <td>0</td>\n",
       "      <td>0</td>\n",
       "      <td>...</td>\n",
       "      <td>0</td>\n",
       "      <td>0.0</td>\n",
       "      <td>0</td>\n",
       "      <td>698.650</td>\n",
       "      <td>0</td>\n",
       "      <td>946.356567</td>\n",
       "      <td>1</td>\n",
       "      <td>24</td>\n",
       "      <td>0</td>\n",
       "      <td>0</td>\n",
       "    </tr>\n",
       "    <tr>\n",
       "      <th>2</th>\n",
       "      <td>2019-01-17T23:51:41Z</td>\n",
       "      <td>duo-fpp</td>\n",
       "      <td>Desert_Main</td>\n",
       "      <td>1</td>\n",
       "      <td>0</td>\n",
       "      <td>0</td>\n",
       "      <td>199.999985</td>\n",
       "      <td>suicide</td>\n",
       "      <td>0</td>\n",
       "      <td>1</td>\n",
       "      <td>...</td>\n",
       "      <td>0</td>\n",
       "      <td>0.0</td>\n",
       "      <td>1</td>\n",
       "      <td>348.012</td>\n",
       "      <td>0</td>\n",
       "      <td>384.515200</td>\n",
       "      <td>3</td>\n",
       "      <td>32</td>\n",
       "      <td>0</td>\n",
       "      <td>0</td>\n",
       "    </tr>\n",
       "    <tr>\n",
       "      <th>3</th>\n",
       "      <td>2019-01-17T23:44:39Z</td>\n",
       "      <td>duo-fpp</td>\n",
       "      <td>Erangel_Main</td>\n",
       "      <td>0</td>\n",
       "      <td>0</td>\n",
       "      <td>0</td>\n",
       "      <td>0.000000</td>\n",
       "      <td>byplayer</td>\n",
       "      <td>0</td>\n",
       "      <td>0</td>\n",
       "      <td>...</td>\n",
       "      <td>0</td>\n",
       "      <td>0.0</td>\n",
       "      <td>0</td>\n",
       "      <td>292.947</td>\n",
       "      <td>0</td>\n",
       "      <td>273.825317</td>\n",
       "      <td>1</td>\n",
       "      <td>38</td>\n",
       "      <td>0</td>\n",
       "      <td>0</td>\n",
       "    </tr>\n",
       "    <tr>\n",
       "      <th>4</th>\n",
       "      <td>2019-01-17T23:37:59Z</td>\n",
       "      <td>duo-fpp</td>\n",
       "      <td>DihorOtok_Main</td>\n",
       "      <td>0</td>\n",
       "      <td>0</td>\n",
       "      <td>0</td>\n",
       "      <td>0.000000</td>\n",
       "      <td>byplayer</td>\n",
       "      <td>0</td>\n",
       "      <td>0</td>\n",
       "      <td>...</td>\n",
       "      <td>0</td>\n",
       "      <td>0.0</td>\n",
       "      <td>0</td>\n",
       "      <td>278.213</td>\n",
       "      <td>0</td>\n",
       "      <td>388.973236</td>\n",
       "      <td>3</td>\n",
       "      <td>40</td>\n",
       "      <td>0</td>\n",
       "      <td>0</td>\n",
       "    </tr>\n",
       "  </tbody>\n",
       "</table>\n",
       "<p>5 rows × 34 columns</p>\n",
       "</div>"
      ],
      "text/plain": [
       "              createdAt  gameMode         mapName  DBNOs  assists  boosts  \\\n",
       "0  2019-01-18T19:02:17Z  solo-fpp     Desert_Main      0        0       2   \n",
       "1  2019-01-17T23:59:25Z   duo-fpp    Erangel_Main      0        0       0   \n",
       "2  2019-01-17T23:51:41Z   duo-fpp     Desert_Main      1        0       0   \n",
       "3  2019-01-17T23:44:39Z   duo-fpp    Erangel_Main      0        0       0   \n",
       "4  2019-01-17T23:37:59Z   duo-fpp  DihorOtok_Main      0        0       0   \n",
       "\n",
       "   damageDealt deathType  headshotKills  heals      ...        roadKills  \\\n",
       "0    34.997932  byplayer              0      0      ...                0   \n",
       "1     0.000000  byplayer              0      0      ...                0   \n",
       "2   199.999985   suicide              0      1      ...                0   \n",
       "3     0.000000  byplayer              0      0      ...                0   \n",
       "4     0.000000  byplayer              0      0      ...                0   \n",
       "\n",
       "   swimDistance  teamKills  timeSurvived  vehicleDestroys  walkDistance  \\\n",
       "0           0.0          0      1540.754                0   1628.352660   \n",
       "1           0.0          0       698.650                0    946.356567   \n",
       "2           0.0          1       348.012                0    384.515200   \n",
       "3           0.0          0       292.947                0    273.825317   \n",
       "4           0.0          0       278.213                0    388.973236   \n",
       "\n",
       "   weaponsAcquired  winPlace  winPoints winPointsDelta  \n",
       "0                3        14          0              0  \n",
       "1                1        24          0              0  \n",
       "2                3        32          0              0  \n",
       "3                1        38          0              0  \n",
       "4                3        40          0              0  \n",
       "\n",
       "[5 rows x 34 columns]"
      ]
     },
     "execution_count": 68,
     "metadata": {},
     "output_type": "execute_result"
    }
   ],
   "source": [
    "matches.head()"
   ]
  },
  {
   "cell_type": "code",
   "execution_count": 69,
   "metadata": {},
   "outputs": [
    {
     "data": {
      "image/png": "[encoded data removed]",
      "text/plain": [
       "<Figure size 432x288 with 1 Axes>"
      ]
     },
     "metadata": {
      "needs_background": "light"
     },
     "output_type": "display_data"
    }
   ],
   "source": [
    "matches[matches['gameMode']=='duo-fpp']['mapName'].value_counts().plot(kind='bar')\n",
    "plt.title('Last 14 days, duo-fpp: matches per map')\n",
    "plt.tight_layout()\n",
    "plt.savefig('maps.jpg')"
   ]
  },
  {
   "cell_type": "code",
   "execution_count": 70,
   "metadata": {},
   "outputs": [
    {
     "data": {
      "text/plain": [
       "<matplotlib.axes._subplots.AxesSubplot at 0x283ef88ea58>"
      ]
     },
     "execution_count": 70,
     "metadata": {},
     "output_type": "execute_result"
    },
    {
     "data": {
      "image/png": "[encoded data removed]",
      "text/plain": [
       "<Figure size 432x288 with 1 Axes>"
      ]
     },
     "metadata": {
      "needs_background": "light"
     },
     "output_type": "display_data"
    }
   ],
   "source": [
    "matches['gameMode'].value_counts().plot(kind='bar')"
   ]
  },
  {
   "cell_type": "code",
   "execution_count": null,
   "metadata": {},
   "outputs": [],
   "source": []
  }
 ],
 "metadata": {
  "kernelspec": {
   "display_name": "Python 3",
   "language": "python",
   "name": "python3"
  },
  "language_info": {
   "codemirror_mode": {
    "name": "ipython",
    "version": 3
   },
   "file_extension": ".py",
   "mimetype": "text/x-python",
   "name": "python",
   "nbconvert_exporter": "python",
   "pygments_lexer": "ipython3",
   "version": "3.7.0"
  }
 },
 "nbformat": 4,
 "nbformat_minor": 2
}
